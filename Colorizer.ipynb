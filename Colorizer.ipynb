{
  "nbformat": 4,
  "nbformat_minor": 0,
  "metadata": {
    "colab": {
      "provenance": [],
      "gpuType": "T4",
      "authorship_tag": "ABX9TyNCP5nv+9iVFaHDrAK6RhnB",
      "include_colab_link": true
    },
    "kernelspec": {
      "name": "python3",
      "display_name": "Python 3"
    },
    "language_info": {
      "name": "python"
    },
    "accelerator": "GPU"
  },
  "cells": [
    {
      "cell_type": "markdown",
      "metadata": {
        "id": "view-in-github",
        "colab_type": "text"
      },
      "source": [
        "<a href=\"https://colab.research.google.com/github/UmerAzmi/Colorizer/blob/main/Colorizer.ipynb\" target=\"_parent\"><img src=\"https://colab.research.google.com/assets/colab-badge.svg\" alt=\"Open In Colab\"/></a>"
      ]
    },
    {
      "cell_type": "markdown",
      "source": [
        "# ***Colorizer***\n",
        "```\n",
        "Before running change runtime type to Python\n",
        "And Hardware Accelerator to GPU\n",
        "```\n",
        "\n"
      ],
      "metadata": {
        "id": "2P5TQ2QaU0wt"
      }
    },
    {
      "cell_type": "code",
      "execution_count": null,
      "metadata": {
        "id": "hBqH8niNjbbv"
      },
      "outputs": [],
      "source": [
        "!git clone https://github.com/jantic/DeOldify.git DeOldify"
      ]
    },
    {
      "cell_type": "code",
      "source": [
        "cd DeOldify"
      ],
      "metadata": {
        "id": "6S56M6BLjfeM"
      },
      "execution_count": null,
      "outputs": []
    },
    {
      "cell_type": "code",
      "source": [
        "from deoldify import device\n",
        "from deoldify.device_id import DeviceId\n",
        "device.set(device=DeviceId.GPU0)\n",
        "\n",
        "import torch\n",
        "\n",
        "if not torch.cuda.is_available():\n",
        "    print('GPU not available.')"
      ],
      "metadata": {
        "id": "txilaKz1jhe8"
      },
      "execution_count": null,
      "outputs": []
    },
    {
      "cell_type": "code",
      "source": [
        "!pip install -r requirements-colab.txt"
      ],
      "metadata": {
        "id": "ATh34D9NjgJX",
        "collapsed": true
      },
      "execution_count": null,
      "outputs": []
    },
    {
      "cell_type": "code",
      "source": [
        "import fastai\n",
        "from deoldify.visualize import *\n",
        "import warnings\n",
        "warnings.filterwarnings(\"ignore\", category=UserWarning, message=\".*?Your .*? set is empty.*?\")"
      ],
      "metadata": {
        "id": "A-FTLZVwjqtj",
        "collapsed": true
      },
      "execution_count": null,
      "outputs": []
    },
    {
      "cell_type": "code",
      "source": [
        "!mkdir 'models'\n",
        "!wget https://data.deepai.org/deoldify/ColorizeArtistic_gen.pth -O ./models/ColorizeArtistic_gen.pth"
      ],
      "metadata": {
        "id": "OcLhgRlijrxe"
      },
      "execution_count": null,
      "outputs": []
    },
    {
      "cell_type": "code",
      "source": [
        "import torch\n",
        "\n",
        "old_torch_load = torch.load\n",
        "def torch_load_patch(*args, **kwargs):\n",
        "    kwargs['weights_only'] = False\n",
        "    return old_torch_load(*args, **kwargs)\n",
        "torch.load = torch_load_patch"
      ],
      "metadata": {
        "id": "IMnQRGpHjtIw"
      },
      "execution_count": null,
      "outputs": []
    },
    {
      "cell_type": "code",
      "source": [
        "colorizer = get_image_colorizer(artistic=True)"
      ],
      "metadata": {
        "id": "mIAnMHdmjvbB"
      },
      "execution_count": null,
      "outputs": []
    },
    {
      "cell_type": "code",
      "source": [
        "!apt-get install -y poppler-utils\n",
        "!pip install pdf2image"
      ],
      "metadata": {
        "id": "bPQe0v4VjwDK"
      },
      "execution_count": null,
      "outputs": []
    },
    {
      "cell_type": "code",
      "source": [
        "from pdf2image import convert_from_path\n",
        "\n",
        "pdf_path = \"/content/a.pdf\"  # Path of the uploaded image or PDF (Upload the files in /content)\n",
        "pages = convert_from_path(pdf_path, dpi=200)\n",
        "\n",
        "for i, page in enumerate(pages):\n",
        "    page.save(f\"/content/PDF2PNG/page_{i+1}.png\", \"PNG\")\n",
        "\n",
        "print(\"PDF converted into images\")"
      ],
      "metadata": {
        "id": "FvaTKG0DjxmV"
      },
      "execution_count": null,
      "outputs": []
    },
    {
      "cell_type": "code",
      "source": [
        "import glob, os\n",
        "\n",
        "input_files = sorted(glob.glob(\"/content/PDF2PNG/page_*.png\")) #Create a Folder named PDF2PNG\n",
        "\n",
        "for file in input_files:\n",
        "    print(\"Colorizing:\", file)\n",
        "    base = os.path.basename(file)\n",
        "\n",
        "    colorizer.plot_transformed_image(\n",
        "        file,\n",
        "        render_factor=28,\n",
        "        figsize=(20,20)\n",
        "    )\n",
        "\n",
        "print(\"All pages colorized\")"
      ],
      "metadata": {
        "id": "FxWhWJOjjz5T"
      },
      "execution_count": null,
      "outputs": []
    },
    {
      "cell_type": "code",
      "source": [
        "from PIL import Image\n",
        "import glob\n",
        "import os\n",
        "\n",
        "colored_files = glob.glob(\"/content/DeOldify/result_images/page_*.png\")\n",
        "\n",
        "def sort_key(filename):\n",
        "    return int(os.path.basename(filename).split('_')[1].split('.')[0])\n",
        "\n",
        "colored_files_sorted = sorted(colored_files, key=sort_key)\n",
        "\n",
        "print(\"Found pages:\", colored_files_sorted)\n",
        "\n",
        "images = [Image.open(f).convert(\"RGB\") for f in colored_files_sorted]\n",
        "\n",
        "if images:\n",
        "    images[0].save(\"/content/OutputPDF.pdf\", save_all=True, append_images=images[1:])\n",
        "    print(\"Colored PDF created: /content/OutputPDF.pdf\")\n",
        "else:\n",
        "    print(\"No images found to create PDF.\")"
      ],
      "metadata": {
        "id": "wnQfYx3nxka1"
      },
      "execution_count": null,
      "outputs": []
    },
    {
      "cell_type": "code",
      "source": [
        "import shutil\n",
        "\n",
        "shutil.rmtree('/content/DeOldify/result_images/page_*.png', ignore_errors=True)\n",
        "shutil.rmtree('/content/colored_pages', ignore_errors=True)\n",
        "for file in glob.glob(\"/content/PDF2PNG/page_*.png\"):\n",
        "    os.remove(file)\n",
        "\n",
        "print(\"All temporary images deleted!\")"
      ],
      "metadata": {
        "id": "soIk4CYn2KLE"
      },
      "execution_count": null,
      "outputs": []
    },
    {
      "cell_type": "code",
      "metadata": {
        "id": "b65c154a"
      },
      "source": [
        "!rm -rf DeOldify\n",
        "print(\"DeOldify folder deleted!\")"
      ],
      "execution_count": null,
      "outputs": []
    },
    {
      "cell_type": "code",
      "metadata": {
        "id": "d90dba77"
      },
      "source": [
        "!pip install pypdf"
      ],
      "execution_count": null,
      "outputs": []
    },
    {
      "cell_type": "code",
      "metadata": {
        "id": "f86f1a4c"
      },
      "source": [
        "from pypdf import PdfWriter\n",
        "\n",
        "merger = PdfWriter()\n",
        "pdf_files = [\"/content/1.pdf\", \"/content/2.pdf\", \"/content/3.pdf\"]\n",
        "\n",
        "for pdf in pdf_files:\n",
        "    merger.append(pdf)\n",
        "\n",
        "output_filename = \"/content/combined_output.pdf\"\n",
        "merger.write(output_filename)\n",
        "merger.close()\n",
        "\n",
        "print(f\"PDFs combined into {output_filename}\")"
      ],
      "execution_count": null,
      "outputs": []
    }
  ]
}